{
  "nbformat": 4,
  "nbformat_minor": 0,
  "metadata": {
    "colab": {
      "provenance": [],
      "authorship_tag": "ABX9TyPVEx9gnCfYB6vwRH8MRxzJ",
      "include_colab_link": true
    },
    "kernelspec": {
      "name": "python3",
      "display_name": "Python 3"
    },
    "language_info": {
      "name": "python"
    }
  },
  "cells": [
    {
      "cell_type": "markdown",
      "metadata": {
        "id": "view-in-github",
        "colab_type": "text"
      },
      "source": [
        "<a href=\"https://colab.research.google.com/github/heshanperera95/data-science-practicals/blob/main/Univariate%2C_Bivariate%2C_and_Multivariate_Data_Analysis_in_Python.ipynb\" target=\"_parent\"><img src=\"https://colab.research.google.com/assets/colab-badge.svg\" alt=\"Open In Colab\"/></a>"
      ]
    },
    {
      "cell_type": "code",
      "execution_count": 1,
      "metadata": {
        "colab": {
          "base_uri": "https://localhost:8080/"
        },
        "id": "CIgat5Prs0Bm",
        "outputId": "c6a968ec-aecb-4e68-cdbc-5ede51f25453"
      },
      "outputs": [
        {
          "output_type": "stream",
          "name": "stdout",
          "text": [
            "Cloning into 'a_little_book_of_python_for_multivariate_analysis'...\n",
            "remote: Enumerating objects: 25, done.\u001b[K\n",
            "remote: Total 25 (delta 0), reused 0 (delta 0), pack-reused 25\u001b[K\n",
            "Unpacking objects: 100% (25/25), 442.77 KiB | 799.00 KiB/s, done.\n"
          ]
        }
      ],
      "source": [
        "!git clone https://github.com/heshanperera95/a_little_book_of_python_for_multivariate_analysis.git"
      ]
    },
    {
      "cell_type": "code",
      "source": [
        "pwd"
      ],
      "metadata": {
        "colab": {
          "base_uri": "https://localhost:8080/",
          "height": 35
        },
        "id": "tG-y_ICYs2jJ",
        "outputId": "a655a566-86f1-4f3a-fb54-7763d6a9e619"
      },
      "execution_count": 2,
      "outputs": [
        {
          "output_type": "execute_result",
          "data": {
            "text/plain": [
              "'/content'"
            ],
            "application/vnd.google.colaboratory.intrinsic+json": {
              "type": "string"
            }
          },
          "metadata": {},
          "execution_count": 2
        }
      ]
    },
    {
      "cell_type": "code",
      "source": [
        "ls -l"
      ],
      "metadata": {
        "colab": {
          "base_uri": "https://localhost:8080/"
        },
        "id": "FZZuBhwGu9zd",
        "outputId": "97d82ca9-a19a-4fa3-9eac-f8d317d4e1e0"
      },
      "execution_count": 9,
      "outputs": [
        {
          "output_type": "stream",
          "name": "stdout",
          "text": [
            "total 56\n",
            "drwxr-xr-x 4 root root  4096 Feb  9 15:03 \u001b[0m\u001b[01;34ma_little_book_of_python_for_multivariate_analysis\u001b[0m/\n",
            "-rw-r--r-- 1 root root 47107 Feb  9 15:11 clean_dataset.csv\n",
            "drwxr-xr-x 1 root root  4096 Feb  7 14:38 \u001b[01;34msample_data\u001b[0m/\n"
          ]
        }
      ]
    },
    {
      "cell_type": "code",
      "source": [],
      "metadata": {
        "id": "sBbot76eu_Cm"
      },
      "execution_count": null,
      "outputs": []
    }
  ]
}